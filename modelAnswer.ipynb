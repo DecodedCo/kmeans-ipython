{
 "cells": [
  {
   "cell_type": "code",
   "execution_count": null,
   "metadata": {
    "collapsed": false,
    "deletable": true,
    "editable": true
   },
   "outputs": [],
   "source": [
    "\"\"\"\n",
    "Welcome To KMeans Clustering\n",
    "\n",
    "Here we will sho you that Machine Learning is nothing but logic!\n",
    "Lets get started\n",
    "\"\"\"\n"
   ]
  },
  {
   "cell_type": "code",
   "execution_count": null,
   "metadata": {
    "collapsed": false,
    "deletable": true,
    "editable": true
   },
   "outputs": [],
   "source": [
    "\"\"\"\n",
    "As you already know, its just not worth writing out ALL the code!\n",
    "For instance, plotting a graph, or chart, is a painful thing to work out\n",
    "Let's use a library to make things easier...\n",
    "\"\"\"\n",
    "\n",
    "#1. import the graph library\n",
    "from graphLibrary import * #import all the possible functions\n",
    "\n",
    "#2. make the graphs display in and amongst the code to make it easy to see!\n",
    "%matplotlib inline \n",
    "\n",
    "#3. make the graphs and charters bigger!\n",
    "pylab.rcParams['figure.figsize'] = 12, 8  \n",
    "\n",
    "#4. display a message when the library is loaded.\n",
    "print (\"graph library loaded!\")"
   ]
  },
  {
   "cell_type": "code",
   "execution_count": null,
   "metadata": {
    "collapsed": false,
    "deletable": true,
    "editable": true
   },
   "outputs": [],
   "source": [
    "\"\"\"\n",
    "Right. We can draw things, but now we need something to draw.\n",
    "This is data science, so lets pull in some useful tools. Spreadsheets and Maths!\n",
    "Then we can import our data\n",
    "\"\"\"\n",
    "#pandas is a spreadsheet library\n",
    "import pandas as pd\n",
    "#numpy is a maths library\n",
    "import numpy as np\n",
    "\"\"\"\n",
    "Make sure to set the correct file name for the data\n",
    "\"\"\"\n",
    "dataset = pd.read_csv('data.csv')\n",
    "dataset.head()"
   ]
  },
  {
   "cell_type": "code",
   "execution_count": null,
   "metadata": {
    "collapsed": false,
    "deletable": true,
    "editable": true
   },
   "outputs": [],
   "source": [
    "\"\"\"\n",
    "Now we can see our data, lets have a look at it.\n",
    "We are going to want to cluster the data, so lets set\n",
    "some variables, to the names of the columns we want to cluster together\n",
    "\"\"\"\n",
    "\n",
    "column1 = \"heights\"#name for column 1 to cluster\n",
    "column2 = \"weights\"#name for column 2 to cluster\n",
    "\n",
    "\"\"\"\n",
    "OK, so to do a KMeans Cluster, we need to give our clusters random starting points.\n",
    "\n",
    "We will set the random cluster centers to be in the range of the 2 columns we have chosen above. \n",
    "For this it needs to know the dataset, so it can see what those ranges are.\n",
    "\n",
    "We are going to create 3 clusters. (for now this must be 3. Other numbers will break it.)\n",
    "\"\"\"\n",
    "clusterDF = createRandomClusterCenters(dataset, range1=column1, range2=column2, clusters=3)\n",
    "clusterDF.head()"
   ]
  },
  {
   "cell_type": "code",
   "execution_count": null,
   "metadata": {
    "collapsed": false,
    "deletable": true,
    "editable": true
   },
   "outputs": [],
   "source": [
    "\"\"\"\n",
    "As a data scientist, its always important to just have a look at the data\n",
    "and see if there is anything you can tell intuitively about the data.\n",
    "\"\"\"\n",
    "#draw a scatter plot of the original data\n",
    "plt.scatter(dataset[column1], dataset[column2])\n",
    "\n",
    "#put the random cluster centers on the graph\n",
    "plt.scatter(clusterDF['CX'], clusterDF['CY'], color='orange', s=100)"
   ]
  },
  {
   "cell_type": "code",
   "execution_count": null,
   "metadata": {
    "collapsed": true,
    "deletable": true,
    "editable": true
   },
   "outputs": [],
   "source": [
    "\"\"\"\n",
    "OK... Now over to you. We know that we are interested in the distance from each point\n",
    "to the nearest cluster center. You are now going to write the algorithm to calculate the distance\n",
    "each point is to each cluster center. Remember, at the moment the cluster centers are just randomly\n",
    "positioned, but this makes no difference!\n",
    "Pythagoras' theorem is \n",
    "    distance = √(x*x + y*y) \n",
    "... we are going to need that maths library, Numpy!\n",
    "\"\"\"\n",
    "def calculateDistances():\n",
    "    #first cluster X and Y differences\n",
    "    x1 = (dataset[column1] - clusterDF.loc[1][\"CX\"])\n",
    "    y1 = (dataset[column2] - clusterDF.loc[1][\"CY\"])\n",
    "    #second cluster X and Y differences\n",
    "    x2 = (dataset[column1] - clusterDF.loc[2][\"CX\"])\n",
    "    y2 = (dataset[column2] - clusterDF.loc[2][\"CY\"])\n",
    "    #third cluster X and Y differences\n",
    "    x3 = (dataset[column1] - clusterDF.loc[3][\"CX\"])\n",
    "    y3 = (dataset[column2] - clusterDF.loc[3][\"CY\"])\n",
    "\n",
    "    #finally calculate the pythagoras equation for the straight line distance\n",
    "    dataset[\"distance1\"] =  np.sqrt( (x1 * x1) + (y1 * y1) )\n",
    "    dataset[\"distance2\"] = np.sqrt( (x2 * x2) + (y2 * y2) )\n",
    "    dataset[\"distance3\"] = np.sqrt( (x3 * x3) + (y3 * y3) )\n"
   ]
  },
  {
   "cell_type": "code",
   "execution_count": null,
   "metadata": {
    "collapsed": true,
    "deletable": true,
    "editable": true
   },
   "outputs": [],
   "source": [
    "\"\"\"\n",
    "Ok, so intuitively, for each data point, whichever distance to a cluster center is the \n",
    "shortest, must be the closest cluster. So we make it a member of that cluster\n",
    "\"\"\"\n",
    "def whichCluster(row):\n",
    "    if row[\"distance1\"] < row[\"distance2\"] and row[\"distance1\"] < row[\"distance3\"]:\n",
    "        return \"C1\"\n",
    "    elif row[\"distance2\"] < row[\"distance3\"] and row[\"distance2\"] < row[\"distance1\"]:\n",
    "        return \"C2\"\n",
    "    else:\n",
    "        return \"C3\""
   ]
  },
  {
   "cell_type": "code",
   "execution_count": null,
   "metadata": {
    "collapsed": false,
    "deletable": true,
    "editable": true
   },
   "outputs": [],
   "source": [
    "\"\"\"\n",
    "Nothing is Magic!\n",
    "Now we need to run a few steps to calculate the clusters.\n",
    "Each time we run this, we can see the cluster centers move\n",
    "and each data point is updated with a new cluster...\n",
    "\"\"\"\n",
    "print \"Cluster Centers BEFORE running calculation\"\n",
    "print clusterDF.head()\n",
    "\"\"\"1. calculate the distances to each center\"\"\" \n",
    "calculateDistances()\n",
    "\n",
    "\"\"\"2. assign each point to a cluster \"\"\" \n",
    "assignToNewCluster(dataset, whichCluster)\n",
    "\n",
    "\"\"\"3. move the cluster centers to the middle of their clusters \"\"\"\n",
    "updateClusterCenterPositions(dataset, clusterDF, column1, column2)\n",
    "\n",
    "\"\"\"4. plot the data and lets see it move!\"\"\"\n",
    "plotClusters(dataset, clusterDF, column1, column2)\n",
    "\n",
    "print \"Cluster Centers AFTER running calculation\"\n",
    "clusterDF.head()"
   ]
  },
  {
   "cell_type": "code",
   "execution_count": null,
   "metadata": {
    "collapsed": true,
    "deletable": true,
    "editable": true
   },
   "outputs": [],
   "source": []
  }
 ],
 "metadata": {
  "kernelspec": {
   "display_name": "Python 2",
   "language": "python",
   "name": "python2"
  },
  "language_info": {
   "codemirror_mode": {
    "name": "ipython",
    "version": 2
   },
   "file_extension": ".py",
   "mimetype": "text/x-python",
   "name": "python",
   "nbconvert_exporter": "python",
   "pygments_lexer": "ipython2",
   "version": "2.7.13"
  },
  "varInspector": {
   "cols": {
    "lenName": 16,
    "lenType": 16,
    "lenVar": 40
   },
   "kernels_config": {
    "python": {
     "delete_cmd_postfix": "",
     "delete_cmd_prefix": "del ",
     "library": "var_list.py",
     "varRefreshCmd": "print(var_dic_list())"
    },
    "r": {
     "delete_cmd_postfix": ") ",
     "delete_cmd_prefix": "rm(",
     "library": "var_list.r",
     "varRefreshCmd": "cat(var_dic_list()) "
    }
   },
   "types_to_exclude": [
    "module",
    "function",
    "builtin_function_or_method",
    "instance",
    "_Feature"
   ],
   "window_display": false
  }
 },
 "nbformat": 4,
 "nbformat_minor": 2
}
