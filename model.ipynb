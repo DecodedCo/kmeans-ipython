{
 "cells": [
  {
   "cell_type": "markdown",
   "metadata": {
    "deletable": true,
    "editable": true
   },
   "source": [
    "## Writing our first machine learning algorithm\n",
    "\n",
    "Machine Learning is not magical. It's just logic and mathematics."
   ]
  },
  {
   "cell_type": "markdown",
   "metadata": {
    "deletable": true,
    "editable": true
   },
   "source": [
    "### 1. Standing on the shoulders of giants\n",
    "\n",
    "As you already know, its just not worth writing out ALL the code. For instance, plotting a graph would take ages if we did it from scratch.\n",
    "\n",
    "Let's use some libraries to make things easier."
   ]
  },
  {
   "cell_type": "code",
   "execution_count": null,
   "metadata": {
    "collapsed": false,
    "deletable": true,
    "editable": true
   },
   "outputs": [],
   "source": [
    "#1. import the graph library\n",
    "from graphLibrary import * #import all the possible functions\n",
    "#2. make the graphs display in and amongst the code to make it easy to see!\n",
    "%matplotlib inline \n",
    "#3. make the graphs and charters bigger!\n",
    "pylab.rcParams['figure.figsize'] = 12, 8  \n",
    "print (\"graph library loaded!\")\n",
    "#4. Spreadsheet library\n",
    "import pandas as pd\n",
    "print (\"spreadsheet loaded!\")\n",
    "#numpy is a maths library\n",
    "import numpy as np\n",
    "print \"maths loaded! 5 * 5 = \", 5 * 5"
   ]
  },
  {
   "cell_type": "markdown",
   "metadata": {
    "deletable": true,
    "editable": true
   },
   "source": [
    "### 2. We need some data!\n",
    "\n",
    "Import our data from a CSV file."
   ]
  },
  {
   "cell_type": "code",
   "execution_count": null,
   "metadata": {
    "collapsed": false,
    "deletable": true,
    "editable": true
   },
   "outputs": [],
   "source": [
    "dataset = pd.read_csv('wine.csv')\n",
    "dataset.head().transpose()"
   ]
  },
  {
   "cell_type": "markdown",
   "metadata": {
    "deletable": true,
    "editable": true
   },
   "source": [
    "### 3. Visualising data\n",
    "\n",
    "Now we can see our data, let's choose which variables we want to cluster together. And let's plot them on a scatter plot."
   ]
  },
  {
   "cell_type": "code",
   "execution_count": null,
   "metadata": {
    "collapsed": false,
    "deletable": true,
    "editable": true
   },
   "outputs": [],
   "source": [
    "column1 = \"Alcohol\"#name for column 1 to cluster\n",
    "column2 = \"Magnesium\"#name for column 2 to cluster\n",
    "#lets have a look at the data!\n",
    "plt.scatter(dataset[column1], dataset[column2])"
   ]
  },
  {
   "cell_type": "markdown",
   "metadata": {
    "deletable": true,
    "editable": true
   },
   "source": [
    "### 4. Pick a random starting point\n",
    "\n",
    "OK, so to do a KMeans Cluster, we need to give our clusters random starting points. By default, we'll try 3 clusters.\n",
    "\n",
    "We will set the random cluster centers to be in the range of the 2 columns we have chosen above."
   ]
  },
  {
   "cell_type": "code",
   "execution_count": null,
   "metadata": {
    "collapsed": false,
    "deletable": true,
    "editable": true
   },
   "outputs": [],
   "source": [
    "clusterDF = createRandomClusterCenters(dataset, range1=column1, range2=column2)\n",
    "clusterDF.head()"
   ]
  },
  {
   "cell_type": "markdown",
   "metadata": {
    "deletable": true,
    "editable": true
   },
   "source": [
    "### 5. Take another look\n",
    "\n",
    "As a data scientist, its always important to just have a look at the data. "
   ]
  },
  {
   "cell_type": "code",
   "execution_count": null,
   "metadata": {
    "collapsed": false,
    "deletable": true,
    "editable": true
   },
   "outputs": [],
   "source": [
    "#draw a scatter plot of the original data\n",
    "plt.scatter(dataset[column1], dataset[column2])\n",
    "\n",
    "#put the random cluster centers on the graph\n",
    "plt.scatter(clusterDF['CX'], clusterDF['CY'], color='orange', s=100)\n",
    "plt.title(column1 + \" vs \" + column2)\n",
    "plt.ylabel(column2)"
   ]
  },
  {
   "cell_type": "code",
   "execution_count": null,
   "metadata": {
    "collapsed": false,
    "deletable": true,
    "editable": true
   },
   "outputs": [],
   "source": [
    "#just for reference, lets have a look again\n",
    "print \"cluster centers:\"\n",
    "print clusterDF.head()\n",
    "print\n",
    "print \"dataset: \"\n",
    "print dataset.head().transpose()"
   ]
  },
  {
   "cell_type": "markdown",
   "metadata": {
    "deletable": true,
    "editable": true
   },
   "source": [
    "### 6. Writing an ML algorithm!\n",
    "\n",
    "OK... Now over to you. We know that we are interested in the distance from each point to the nearest cluster center. \n",
    "\n",
    "You are now going to write the algorithm to calculate the distance each point is to each cluster center. Remember, at the moment the cluster centers are just randomly positioned, but this makes no difference!\n",
    "\n",
    "Pythagoras' theorem is \n",
    "\n",
    "```\n",
    "distance = √(x*x + y*y)\n",
    "```\n",
    "\n",
    "... to calculate a square root we'll need that maths library from earlier, Numpy!"
   ]
  },
  {
   "cell_type": "code",
   "execution_count": null,
   "metadata": {
    "collapsed": false,
    "deletable": true,
    "editable": true
   },
   "outputs": [],
   "source": [
    "def calculateDistances():\n",
    "    #first cluster X and Y differences\n",
    "    print \"running calculate distances...\"\n",
    "    \n",
    "    x1 = dataset[column1] - clusterDF.loc[1][\"CX\"]\n",
    "    x2 = dataset[column1] - clusterDF.loc[2][\"CX\"]\n",
    "    x3 = dataset[column1] - clusterDF.loc[3][\"CX\"]\n",
    "\n",
    "    y1 = dataset[column2] - clusterDF.loc[1][\"CY\"]\n",
    "    y2 = dataset[column2] - clusterDF.loc[2][\"CY\"]\n",
    "    y3 = dataset[column2] - clusterDF.loc[3][\"CY\"]\n",
    "\n",
    "    dataset[\"distance1\"] = np.sqrt(x1 * x1 + y1 * y1)\n",
    "    dataset[\"distance2\"] = np.sqrt(x2 * x2 + y2 * y2)\n",
    "    dataset[\"distance3\"] = np.sqrt(x3 * x3 + y3 * y3)\n"
   ]
  },
  {
   "cell_type": "markdown",
   "metadata": {
    "deletable": true,
    "editable": true
   },
   "source": [
    "### 7. Put each point in a cluster.\n",
    "\n",
    "Ok, so intuitively, for each data point, whichever distance to a cluster center is the \n",
    "shortest, must be the closest cluster. So we make it a member of that cluster"
   ]
  },
  {
   "cell_type": "code",
   "execution_count": null,
   "metadata": {
    "collapsed": false,
    "deletable": true,
    "editable": true
   },
   "outputs": [],
   "source": [
    "def whichCluster(datapoint):\n",
    "    if datapoint[\"distance1\"] < datapoint[\"distance2\"] and datapoint[\"distance1\"] < datapoint[\"distance3\"]:\n",
    "        return \"C1\"\n",
    "    elif datapoint[\"distance2\"] < datapoint[\"distance3\"] and datapoint[\"distance2\"] < datapoint[\"distance1\"]:\n",
    "        return \"C2\"\n",
    "    else:\n",
    "        return \"C3\"\n",
    "print (\"function to cluster datapoints ready!\")"
   ]
  },
  {
   "cell_type": "markdown",
   "metadata": {
    "deletable": true,
    "editable": true
   },
   "source": [
    "### 8. Improving our clusters\n",
    "\n",
    "Now we need to run a few steps to calculate the clusters. Each time we run this, we can see the cluster centers move\n",
    "and each data point is updated with a new cluster... machine learning in action!"
   ]
  },
  {
   "cell_type": "code",
   "execution_count": null,
   "metadata": {
    "collapsed": false,
    "deletable": true,
    "editable": true
   },
   "outputs": [],
   "source": [
    "print \"Cluster Centers BEFORE running calculation\"\n",
    "print clusterDF.head()\n",
    "\n",
    "\"\"\"1. calculate the distances to each center\"\"\" \n",
    "calculateDistances()\n",
    "\n",
    "\"\"\"2. assign each point to a cluster \"\"\" \n",
    "assignToNewCluster(dataset, whichCluster)\n",
    "\n",
    "\"\"\"3. move the cluster centers to the middle of their clusters \"\"\"\n",
    "updateClusterCenterPositions(dataset, clusterDF, column1, column2)\n",
    "\n",
    "\"\"\"4. plot the data and lets see it move!\"\"\"\n",
    "plotClusters(dataset, clusterDF, column1, column2)\n",
    "print \n",
    "print \"Cluster Centers AFTER running calculation\"\n",
    "clusterDF.head()"
   ]
  },
  {
   "cell_type": "code",
   "execution_count": null,
   "metadata": {
    "collapsed": true,
    "deletable": true,
    "editable": true
   },
   "outputs": [],
   "source": []
  },
  {
   "cell_type": "code",
   "execution_count": null,
   "metadata": {
    "collapsed": true,
    "deletable": true,
    "editable": true
   },
   "outputs": [],
   "source": []
  }
 ],
 "metadata": {
  "kernelspec": {
   "display_name": "Python 2",
   "language": "python",
   "name": "python2"
  },
  "language_info": {
   "codemirror_mode": {
    "name": "ipython",
    "version": 2
   },
   "file_extension": ".py",
   "mimetype": "text/x-python",
   "name": "python",
   "nbconvert_exporter": "python",
   "pygments_lexer": "ipython2",
   "version": "2.7.13"
  },
  "varInspector": {
   "cols": {
    "lenName": 16,
    "lenType": 16,
    "lenVar": 40
   },
   "kernels_config": {
    "python": {
     "delete_cmd_postfix": "",
     "delete_cmd_prefix": "del ",
     "library": "var_list.py",
     "varRefreshCmd": "print(var_dic_list())"
    },
    "r": {
     "delete_cmd_postfix": ") ",
     "delete_cmd_prefix": "rm(",
     "library": "var_list.r",
     "varRefreshCmd": "cat(var_dic_list()) "
    }
   },
   "types_to_exclude": [
    "module",
    "function",
    "builtin_function_or_method",
    "instance",
    "_Feature"
   ],
   "window_display": false
  }
 },
 "nbformat": 4,
 "nbformat_minor": 2
}
